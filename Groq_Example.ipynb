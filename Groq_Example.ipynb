{
  "nbformat": 4,
  "nbformat_minor": 0,
  "metadata": {
    "colab": {
      "provenance": []
    },
    "kernelspec": {
      "name": "python3",
      "display_name": "Python 3"
    },
    "language_info": {
      "name": "python"
    }
  },
  "cells": [
    {
      "cell_type": "markdown",
      "source": [
        "# Using Groq API for Large Language Models (LLMs)\n"
      ],
      "metadata": {
        "id": "th5H9aLFP3m4"
      }
    },
    {
      "cell_type": "markdown",
      "source": [
        "Groq is a fast AI inference, powered by LPU™ AI inference technology which delivers fast, affordable, and energy efficient AI.\n",
        "\n",
        "Getting Started with groq API.\n",
        "1. Signup on https://console.groq.com/\n",
        "2. Navigate to API-Keys and create a new api key. You will get to see it only once so you need to save it somewhere safe\n",
        "3. Import necessary libraries and start working with it."
      ],
      "metadata": {
        "id": "zkbshixBa9qB"
      }
    },
    {
      "cell_type": "markdown",
      "source": [
        "## Example Usage of Groq API"
      ],
      "metadata": {
        "id": "nu3Q7xBhQa2K"
      }
    },
    {
      "cell_type": "code",
      "source": [
        "# API_KEY = \"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\"\n"
      ],
      "metadata": {
        "id": "S08qKmp7QblR"
      },
      "execution_count": 1,
      "outputs": []
    },
    {
      "cell_type": "code",
      "source": [
        "from google.colab import userdata\n",
        "GROQ_API_KEY = userdata.get('GROQ_KEY')"
      ],
      "metadata": {
        "id": "UsRrqGiikMno"
      },
      "execution_count": 2,
      "outputs": []
    },
    {
      "cell_type": "code",
      "source": [
        "%%capture\n",
        "\n",
        "!pip install groq"
      ],
      "metadata": {
        "id": "yhIYB_ZlZ1a9"
      },
      "execution_count": 3,
      "outputs": []
    },
    {
      "cell_type": "code",
      "source": [
        "import os\n",
        "\n",
        "from groq import Groq\n",
        "\n",
        "client = Groq(\n",
        "    api_key=GROQ_API_KEY,\n",
        ")\n",
        "\n",
        "chat_completion = client.chat.completions.create(\n",
        "    messages=[\n",
        "        {\n",
        "            \"role\": \"user\",\n",
        "            \"content\": \"Explain the importance of fast language models\",\n",
        "        }\n",
        "    ],\n",
        "    model=\"llama-3.1-70b-versatile\",\n",
        ")\n",
        "\n",
        "print(chat_completion.choices[0].message.content)"
      ],
      "metadata": {
        "colab": {
          "base_uri": "https://localhost:8080/"
        },
        "id": "F4zMJrAAZ6wF",
        "outputId": "b56aeb7b-c2b6-48e9-dc36-e936c2273e9b"
      },
      "execution_count": 4,
      "outputs": [
        {
          "output_type": "stream",
          "name": "stdout",
          "text": [
            "Fast language models are revolutionizing the way we interact with computers and process natural language data. Their importance can be summarized as follows:\n",
            "\n",
            "1. **Efficient Processing**: Fast language models enable computers to process and analyze vast amounts of natural language data quickly and accurately, making them essential for applications like language translation, sentiment analysis, and text summarization.\n",
            "2. **Real-time Interaction**: Fast language models facilitate real-time interaction between humans and computers, enabling applications like chatbots, virtual assistants, and language-based interfaces for IoT devices.\n",
            "3. **Improved Accuracy**: By training on large datasets and fine-tuning on specific tasks, fast language models can achieve higher accuracy in tasks like language translation, question-answering, and natural language inference.\n",
            "4. **Enhanced Productivity**: Fast language models can automate tasks like writing, editing, and proofreading, freeing up human professionals to focus on creative and high-value tasks.\n",
            "5. **Personalized Experience**: By rapidly processing and analyzing user input, fast language models can provide personalized recommendations, feedback, and assistance, enhancing the overall user experience.\n",
            "6. **Handling Nuances**: Fast language models can capture nuances in language like idioms, colloquialisms, and figurative language, allowing for more accurate and context-sensitive processing of natural language.\n",
            "7. **Supporting Low-Resource Languages**: Fast language models can be particularly useful for low-resource languages, where large datasets and intensive computational resources may not be readily available.\n",
            "8. **Democratization of Language Technology**: Fast language models have made language technology more accessible and affordable for businesses and individuals, enabling widespread adoption and innovation.\n",
            "9. **Advanced Research and Development**: Fast language models are driving advancements in areas like natural language processing, computer vision, and robotics, pushing the boundaries of what is possible with artificial intelligence.\n",
            "10. **Improving Accessibility**: Fast language models can improve accessibility for people with disabilities, such as those who are hard of hearing or have language barriers.\n",
            "\n",
            "Some examples of applications that benefit from fast language models include:\n",
            "\n",
            "* Virtual assistants like Siri, Alexa, and Google Assistant\n",
            "* Language translation platforms like Google Translate and Microsoft Translator\n",
            "* Chatbots and customer service interfaces\n",
            "* Language-based interfaces for IoT devices\n",
            "* Sentiment analysis and opinion mining for social media monitoring\n",
            "* Personalized content recommendation for media streaming services\n",
            "* Automated writing and editing tools for content creators\n",
            "\n",
            "Overall, fast language models have revolutionized the way we interact with computers and process natural language data, and their importance will only continue to grow as AI technology advances.\n"
          ]
        }
      ]
    },
    {
      "cell_type": "code",
      "source": [
        "import os\n",
        "\n",
        "from groq import Groq\n",
        "\n",
        "client = Groq(\n",
        "    api_key=GROQ_API_KEY,\n",
        ")\n",
        "\n",
        "chat_completion = client.chat.completions.create(\n",
        "    messages=[\n",
        "        {\n",
        "            \"role\": \"user\",\n",
        "            \"content\": \"Get me a debate between  Donald trump and Kamala Harris as a poem\",\n",
        "        }\n",
        "    ],\n",
        "    model=\"llama-3.1-70b-versatile\",\n",
        ")\n",
        "\n",
        "print(chat_completion.choices[0].message.content)"
      ],
      "metadata": {
        "colab": {
          "base_uri": "https://localhost:8080/"
        },
        "id": "-Z3IxLPYaA0a",
        "outputId": "22400dec-e36b-4666-998a-09bf96bbfcca"
      },
      "execution_count": 7,
      "outputs": [
        {
          "output_type": "stream",
          "name": "stdout",
          "text": [
            "A stage is set, the crowd does cheer,\n",
            "Two foes stand forth, with views so clear,\n",
            "Donald Trump and Kamala Harris too,\n",
            "Their debate begins, with words anew.\n",
            "\n",
            "Trump starts strong, with voice so bold,\n",
            "\"My wall will stand, the people will be told,\n",
            "To keep out those who would do us harm,\n",
            "And keep our jobs, our economy's charm.\"\n",
            "\n",
            "Harris responds, with calm tone sweet,\n",
            "\"Your wall is impractical, a foolish feat,\n",
            "It won't keep out the dreamers, the ones we adore,\n",
            "And it won't fix our system, forever in store.\"\n",
            "\n",
            "Trump shoots back, with retorts so bright,\n",
            "\"You're weak on crime, and soft on tonight,\n",
            "The cities burn, with riots and fear,\n",
            "Your justice system, is one that brings tears.\"\n",
            "\n",
            "Harris stands strong, with conviction true,\n",
            "\"Your policies fail, with an economy anew,\n",
            "The poor get poorer, the rich get bold,\n",
            "Your 'make America great' is just an old tale told.\"\n",
            "\n",
            "Trump jeers and mocks, with face so red,\n",
            "\"Your socialism will make us dead,\n",
            "The free markets are where we should be,\n",
            "Not some failed ideology, that's killing liberty.\"\n",
            "\n",
            "Harris responds, with calm wisdom's guide,\n",
            "\"Our system's broken, the people must decide,\n",
            "The top one percent, control too much might,\n",
            "A better future's in a fairer light.\"\n",
            "\n",
            "The debate rages on, with words aflame,\n",
            "Until the final bell, and the crowd proclaims,\n",
            "Their visions clash, their words abound,\n",
            "In this great debate, where will they be found?\n",
            "\n",
            "Note: The content is based on general knowledge and publicly available information. The debate presented is fictional and intended to be a poetic representation of the ideologies and stances of Donald Trump and Kamala Harris.\n"
          ]
        }
      ]
    }
  ]
}